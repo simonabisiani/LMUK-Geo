{
 "cells": [
  {
   "cell_type": "markdown",
   "metadata": {},
   "source": [
    "# Random Sample of 100 Documents Extraction"
   ]
  },
  {
   "cell_type": "code",
   "execution_count": 1,
   "metadata": {},
   "outputs": [
    {
     "name": "stdout",
     "output_type": "stream",
     "text": [
      "c:\\Users\\sb02767\\OneDrive - University of Surrey\\Documents\\phd_articles\n"
     ]
    }
   ],
   "source": [
    "# Load libraries and set working directory to where files are stored\n",
    "import pandas as pd\n",
    "import os"
   ]
  },
  {
   "cell_type": "code",
   "execution_count": 7,
   "metadata": {},
   "outputs": [],
   "source": [
    "articles = pd.read_csv('ner_corpus_only_relevant_domains.csv')\n",
    "articles_only = articles['text_clean']\n",
    "\n",
    "training_data = []\n",
    "for article in articles_only:\n",
    "        training_data.append({\"text\": article.strip()})\n",
    "len(training_data)\n",
    "\n",
    "import random\n",
    "# sample = random.sample(training_data, k=100)\n",
    "\n",
    "import srsly\n",
    "# srsly.write_jsonl(\"prodigy_sample.jsonl\", sample) # do not overwrite the sample\n",
    "sample = pd.read_json(\"temp/prodigy_sample.jsonl\", lines = True) "
   ]
  }
 ],
 "metadata": {
  "kernelspec": {
   "display_name": "geocoding_env",
   "language": "python",
   "name": "python3"
  },
  "language_info": {
   "codemirror_mode": {
    "name": "ipython",
    "version": 3
   },
   "file_extension": ".py",
   "mimetype": "text/x-python",
   "name": "python",
   "nbconvert_exporter": "python",
   "pygments_lexer": "ipython3",
   "version": "3.10.11"
  }
 },
 "nbformat": 4,
 "nbformat_minor": 4
}
